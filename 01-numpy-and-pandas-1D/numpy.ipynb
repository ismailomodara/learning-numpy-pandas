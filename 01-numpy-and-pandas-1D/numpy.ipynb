{
 "cells": [
  {
   "cell_type": "code",
   "execution_count": 1,
   "id": "3e19a4ee",
   "metadata": {},
   "outputs": [],
   "source": [
    "import numpy as np"
   ]
  },
  {
   "cell_type": "code",
   "execution_count": 2,
   "id": "4d89ba31",
   "metadata": {},
   "outputs": [],
   "source": [
    "countries = np.array([\n",
    "    'Afghanistan', 'Albania', 'Algeria', 'Angola', 'Argentina',\n",
    "    'Armenia', 'Australia', 'Austria', 'Azerbaijan', 'Bahamas',\n",
    "    'Bahrain', 'Bangladesh', 'Barbados', 'Belarus', 'Belgium',\n",
    "    'Belize', 'Benin', 'Bhutan', 'Bolivia',\n",
    "    'Bosnia and Herzegovina'\n",
    "])"
   ]
  },
  {
   "cell_type": "code",
   "execution_count": 16,
   "id": "c9a9bf1c",
   "metadata": {},
   "outputs": [],
   "source": [
    "employment = np.array([\n",
    "    55.70000076,  51.40000153,  50.5       ,  75.69999695,\n",
    "    58.40000153,  40.09999847,  61.5       ,  57.09999847,\n",
    "    60.90000153,  66.59999847,  60.40000153,  68.09999847,\n",
    "    66.90000153,  53.40000153,  48.59999847,  56.79999924,\n",
    "    71.59999847,  58.40000153,  70.40000153,  41.20000076\n",
    "])"
   ]
  },
  {
   "cell_type": "code",
   "execution_count": 5,
   "id": "799c32f9",
   "metadata": {},
   "outputs": [
    {
     "data": {
      "text/plain": [
       "array(['Afghanistan', 'Albania', 'Algeria'], dtype='<U22')"
      ]
     },
     "execution_count": 5,
     "metadata": {},
     "output_type": "execute_result"
    }
   ],
   "source": [
    "countries[0:3]"
   ]
  },
  {
   "cell_type": "code",
   "execution_count": 6,
   "id": "7e9e0c90",
   "metadata": {},
   "outputs": [
    {
     "data": {
      "text/plain": [
       "array(['Afghanistan', 'Albania', 'Algeria'], dtype='<U22')"
      ]
     },
     "execution_count": 6,
     "metadata": {},
     "output_type": "execute_result"
    }
   ],
   "source": [
    "countries[:3]"
   ]
  },
  {
   "cell_type": "code",
   "execution_count": 7,
   "id": "77f5820a",
   "metadata": {},
   "outputs": [
    {
     "data": {
      "text/plain": [
       "array(['Bhutan', 'Bolivia', 'Bosnia and Herzegovina'], dtype='<U22')"
      ]
     },
     "execution_count": 7,
     "metadata": {},
     "output_type": "execute_result"
    }
   ],
   "source": [
    "countries[17:]"
   ]
  },
  {
   "cell_type": "code",
   "execution_count": 10,
   "id": "858b104d",
   "metadata": {},
   "outputs": [
    {
     "data": {
      "text/plain": [
       "dtype('<U22')"
      ]
     },
     "execution_count": 10,
     "metadata": {},
     "output_type": "execute_result"
    }
   ],
   "source": [
    "countries.dtype"
   ]
  },
  {
   "cell_type": "code",
   "execution_count": 17,
   "id": "2fa72e30",
   "metadata": {},
   "outputs": [
    {
     "data": {
      "text/plain": [
       "dtype('float64')"
      ]
     },
     "execution_count": 17,
     "metadata": {},
     "output_type": "execute_result"
    }
   ],
   "source": [
    "employment.dtype"
   ]
  },
  {
   "cell_type": "code",
   "execution_count": 18,
   "id": "a9f036d0",
   "metadata": {},
   "outputs": [
    {
     "data": {
      "text/plain": [
       "dtype('int64')"
      ]
     },
     "execution_count": 18,
     "metadata": {},
     "output_type": "execute_result"
    }
   ],
   "source": [
    "np.array([0, 1, 2, 3]).dtype"
   ]
  },
  {
   "cell_type": "code",
   "execution_count": 19,
   "id": "ddebb3b1",
   "metadata": {},
   "outputs": [
    {
     "data": {
      "text/plain": [
       "dtype('float64')"
      ]
     },
     "execution_count": 19,
     "metadata": {},
     "output_type": "execute_result"
    }
   ],
   "source": [
    "np.array([1.0, 1.5, 2.0, 2.5]).dtype"
   ]
  },
  {
   "cell_type": "code",
   "execution_count": 20,
   "id": "c7c88ae5",
   "metadata": {},
   "outputs": [
    {
     "data": {
      "text/plain": [
       "dtype('bool')"
      ]
     },
     "execution_count": 20,
     "metadata": {},
     "output_type": "execute_result"
    }
   ],
   "source": [
    "np.array([True, False, False]).dtype"
   ]
  },
  {
   "cell_type": "code",
   "execution_count": 26,
   "id": "8fe1ba73",
   "metadata": {},
   "outputs": [
    {
     "data": {
      "text/plain": [
       "dtype('<U9')"
      ]
     },
     "execution_count": 26,
     "metadata": {},
     "output_type": "execute_result"
    }
   ],
   "source": [
    "np.array(['Sushi', 'Afterlife']).dtype"
   ]
  },
  {
   "cell_type": "code",
   "execution_count": 27,
   "id": "45c62b1c",
   "metadata": {},
   "outputs": [
    {
     "data": {
      "text/plain": [
       "dtype('<U2')"
      ]
     },
     "execution_count": 27,
     "metadata": {},
     "output_type": "execute_result"
    }
   ],
   "source": [
    "np.array(['AL', 'AK', 'AZ', 'AR', 'CA']).dtype"
   ]
  },
  {
   "cell_type": "code",
   "execution_count": 31,
   "id": "5b123795",
   "metadata": {},
   "outputs": [
    {
     "data": {
      "text/plain": [
       "range(0, 20)"
      ]
     },
     "execution_count": 31,
     "metadata": {},
     "output_type": "execute_result"
    }
   ],
   "source": [
    "range(len(countries))"
   ]
  },
  {
   "cell_type": "code",
   "execution_count": 35,
   "id": "6c55aa71",
   "metadata": {},
   "outputs": [
    {
     "name": "stdout",
     "output_type": "stream",
     "text": [
      "Afghanistan has employement rate of 55.70%\n",
      "Albania has employement rate of 51.40%\n",
      "Algeria has employement rate of 50.50%\n",
      "Angola has employement rate of 75.70%\n",
      "Argentina has employement rate of 58.40%\n",
      "Armenia has employement rate of 40.10%\n",
      "Australia has employement rate of 61.50%\n",
      "Austria has employement rate of 57.10%\n",
      "Azerbaijan has employement rate of 60.90%\n",
      "Bahamas has employement rate of 66.60%\n",
      "Bahrain has employement rate of 60.40%\n",
      "Bangladesh has employement rate of 68.10%\n",
      "Barbados has employement rate of 66.90%\n",
      "Belarus has employement rate of 53.40%\n",
      "Belgium has employement rate of 48.60%\n",
      "Belize has employement rate of 56.80%\n",
      "Benin has employement rate of 71.60%\n",
      "Bhutan has employement rate of 58.40%\n",
      "Bolivia has employement rate of 70.40%\n",
      "Bosnia and Herzegovina has employement rate of 41.20%\n"
     ]
    }
   ],
   "source": [
    "for i in range(len(countries)):\n",
    "    print(\"{} has employement rate of {:.2f}%\".format(countries[i], employment[i]))"
   ]
  },
  {
   "cell_type": "code",
   "execution_count": 36,
   "id": "d91a0cb3",
   "metadata": {},
   "outputs": [
    {
     "data": {
      "text/plain": [
       "58.68500003850001"
      ]
     },
     "execution_count": 36,
     "metadata": {},
     "output_type": "execute_result"
    }
   ],
   "source": [
    "employment.mean()"
   ]
  },
  {
   "cell_type": "code",
   "execution_count": 37,
   "id": "5fbec497",
   "metadata": {},
   "outputs": [
    {
     "data": {
      "text/plain": [
       "9.338269113687888"
      ]
     },
     "execution_count": 37,
     "metadata": {},
     "output_type": "execute_result"
    }
   ],
   "source": [
    "employment.std()"
   ]
  },
  {
   "cell_type": "code",
   "execution_count": 38,
   "id": "b910cfdd",
   "metadata": {},
   "outputs": [
    {
     "data": {
      "text/plain": [
       "75.69999695"
      ]
     },
     "execution_count": 38,
     "metadata": {},
     "output_type": "execute_result"
    }
   ],
   "source": [
    "employment.max()"
   ]
  },
  {
   "cell_type": "code",
   "execution_count": 39,
   "id": "19d25567",
   "metadata": {},
   "outputs": [
    {
     "data": {
      "text/plain": [
       "1173.70000077"
      ]
     },
     "execution_count": 39,
     "metadata": {},
     "output_type": "execute_result"
    }
   ],
   "source": [
    "employment.sum()"
   ]
  },
  {
   "cell_type": "code",
   "execution_count": 48,
   "id": "4af2d35a",
   "metadata": {},
   "outputs": [
    {
     "data": {
      "text/plain": [
       "(array([3]),)"
      ]
     },
     "execution_count": 48,
     "metadata": {},
     "output_type": "execute_result"
    }
   ],
   "source": [
    "np.where(employment == employment.max())"
   ]
  },
  {
   "cell_type": "code",
   "execution_count": 51,
   "id": "1add0cea",
   "metadata": {},
   "outputs": [
    {
     "data": {
      "text/plain": [
       "array(['Angola'], dtype='<U22')"
      ]
     },
     "execution_count": 51,
     "metadata": {},
     "output_type": "execute_result"
    }
   ],
   "source": [
    "country = countries[np.where(employment == employment.max())]\n",
    "country"
   ]
  },
  {
   "cell_type": "code",
   "execution_count": 52,
   "id": "a8c895fe",
   "metadata": {},
   "outputs": [
    {
     "data": {
      "text/plain": [
       "array(['Armenia', 'Belgium', 'Bosnia and Herzegovina'], dtype='<U22')"
      ]
     },
     "execution_count": 52,
     "metadata": {},
     "output_type": "execute_result"
    }
   ],
   "source": [
    "countries[np.where(employment < 50.0)]"
   ]
  },
  {
   "cell_type": "code",
   "execution_count": null,
   "id": "d1fbdd61",
   "metadata": {},
   "outputs": [],
   "source": []
  }
 ],
 "metadata": {
  "kernelspec": {
   "display_name": "Python [conda env:io] *",
   "language": "python",
   "name": "conda-env-io-py"
  },
  "language_info": {
   "codemirror_mode": {
    "name": "ipython",
    "version": 3
   },
   "file_extension": ".py",
   "mimetype": "text/x-python",
   "name": "python",
   "nbconvert_exporter": "python",
   "pygments_lexer": "ipython3",
   "version": "3.9.15"
  }
 },
 "nbformat": 4,
 "nbformat_minor": 5
}
