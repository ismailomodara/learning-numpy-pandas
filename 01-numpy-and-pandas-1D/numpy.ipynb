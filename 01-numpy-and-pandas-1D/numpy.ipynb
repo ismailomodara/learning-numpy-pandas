{
 "cells": [
  {
   "cell_type": "code",
   "execution_count": 1,
   "id": "32936d0c",
   "metadata": {},
   "outputs": [],
   "source": [
    "import numpy as np"
   ]
  },
  {
   "cell_type": "code",
   "execution_count": 2,
   "id": "ce039f83",
   "metadata": {},
   "outputs": [],
   "source": [
    "countries = np.array([\n",
    "    'Afghanistan', 'Albania', 'Algeria', 'Angola', 'Argentina',\n",
    "    'Armenia', 'Australia', 'Austria', 'Azerbaijan', 'Bahamas',\n",
    "    'Bahrain', 'Bangladesh', 'Barbados', 'Belarus', 'Belgium',\n",
    "    'Belize', 'Benin', 'Bhutan', 'Bolivia',\n",
    "    'Bosnia and Herzegovina'\n",
    "])"
   ]
  },
  {
   "cell_type": "code",
   "execution_count": 16,
   "id": "f1ccf083",
   "metadata": {},
   "outputs": [],
   "source": [
    "employment = np.array([\n",
    "    55.70000076,  51.40000153,  50.5       ,  75.69999695,\n",
    "    58.40000153,  40.09999847,  61.5       ,  57.09999847,\n",
    "    60.90000153,  66.59999847,  60.40000153,  68.09999847,\n",
    "    66.90000153,  53.40000153,  48.59999847,  56.79999924,\n",
    "    71.59999847,  58.40000153,  70.40000153,  41.20000076\n",
    "])"
   ]
  },
  {
   "cell_type": "code",
   "execution_count": 5,
   "id": "d5fdf2d3",
   "metadata": {},
   "outputs": [
    {
     "data": {
      "text/plain": [
       "array(['Afghanistan', 'Albania', 'Algeria'], dtype='<U22')"
      ]
     },
     "execution_count": 5,
     "metadata": {},
     "output_type": "execute_result"
    }
   ],
   "source": [
    "countries[0:3]"
   ]
  },
  {
   "cell_type": "code",
   "execution_count": 6,
   "id": "5654d8b2",
   "metadata": {},
   "outputs": [
    {
     "data": {
      "text/plain": [
       "array(['Afghanistan', 'Albania', 'Algeria'], dtype='<U22')"
      ]
     },
     "execution_count": 6,
     "metadata": {},
     "output_type": "execute_result"
    }
   ],
   "source": [
    "countries[:3]"
   ]
  },
  {
   "cell_type": "code",
   "execution_count": 7,
   "id": "dacdc8e0",
   "metadata": {},
   "outputs": [
    {
     "data": {
      "text/plain": [
       "array(['Bhutan', 'Bolivia', 'Bosnia and Herzegovina'], dtype='<U22')"
      ]
     },
     "execution_count": 7,
     "metadata": {},
     "output_type": "execute_result"
    }
   ],
   "source": [
    "countries[17:]"
   ]
  },
  {
   "cell_type": "code",
   "execution_count": 10,
   "id": "f1ffa3d5",
   "metadata": {},
   "outputs": [
    {
     "data": {
      "text/plain": [
       "dtype('<U22')"
      ]
     },
     "execution_count": 10,
     "metadata": {},
     "output_type": "execute_result"
    }
   ],
   "source": [
    "countries.dtype"
   ]
  },
  {
   "cell_type": "code",
   "execution_count": 17,
   "id": "c24961ea",
   "metadata": {},
   "outputs": [
    {
     "data": {
      "text/plain": [
       "dtype('float64')"
      ]
     },
     "execution_count": 17,
     "metadata": {},
     "output_type": "execute_result"
    }
   ],
   "source": [
    "employment.dtype"
   ]
  },
  {
   "cell_type": "code",
   "execution_count": 18,
   "id": "3ae3008d",
   "metadata": {},
   "outputs": [
    {
     "data": {
      "text/plain": [
       "dtype('int64')"
      ]
     },
     "execution_count": 18,
     "metadata": {},
     "output_type": "execute_result"
    }
   ],
   "source": [
    "np.array([0, 1, 2, 3]).dtype"
   ]
  },
  {
   "cell_type": "code",
   "execution_count": 19,
   "id": "4bf4d359",
   "metadata": {},
   "outputs": [
    {
     "data": {
      "text/plain": [
       "dtype('float64')"
      ]
     },
     "execution_count": 19,
     "metadata": {},
     "output_type": "execute_result"
    }
   ],
   "source": [
    "np.array([1.0, 1.5, 2.0, 2.5]).dtype"
   ]
  },
  {
   "cell_type": "code",
   "execution_count": 20,
   "id": "9ec9100e",
   "metadata": {},
   "outputs": [
    {
     "data": {
      "text/plain": [
       "dtype('bool')"
      ]
     },
     "execution_count": 20,
     "metadata": {},
     "output_type": "execute_result"
    }
   ],
   "source": [
    "np.array([True, False, False]).dtype"
   ]
  },
  {
   "cell_type": "code",
   "execution_count": 26,
   "id": "90262e28",
   "metadata": {},
   "outputs": [
    {
     "data": {
      "text/plain": [
       "dtype('<U9')"
      ]
     },
     "execution_count": 26,
     "metadata": {},
     "output_type": "execute_result"
    }
   ],
   "source": [
    "np.array(['Sushi', 'Afterlife']).dtype"
   ]
  },
  {
   "cell_type": "code",
   "execution_count": 27,
   "id": "7c891ef3",
   "metadata": {},
   "outputs": [
    {
     "data": {
      "text/plain": [
       "dtype('<U2')"
      ]
     },
     "execution_count": 27,
     "metadata": {},
     "output_type": "execute_result"
    }
   ],
   "source": [
    "np.array(['AL', 'AK', 'AZ', 'AR', 'CA']).dtype"
   ]
  },
  {
   "cell_type": "code",
   "execution_count": 31,
   "id": "1bf8024a",
   "metadata": {},
   "outputs": [
    {
     "data": {
      "text/plain": [
       "range(0, 20)"
      ]
     },
     "execution_count": 31,
     "metadata": {},
     "output_type": "execute_result"
    }
   ],
   "source": [
    "range(len(countries))"
   ]
  },
  {
   "cell_type": "code",
   "execution_count": 35,
   "id": "bda71217",
   "metadata": {},
   "outputs": [
    {
     "name": "stdout",
     "output_type": "stream",
     "text": [
      "Afghanistan has employement rate of 55.70%\n",
      "Albania has employement rate of 51.40%\n",
      "Algeria has employement rate of 50.50%\n",
      "Angola has employement rate of 75.70%\n",
      "Argentina has employement rate of 58.40%\n",
      "Armenia has employement rate of 40.10%\n",
      "Australia has employement rate of 61.50%\n",
      "Austria has employement rate of 57.10%\n",
      "Azerbaijan has employement rate of 60.90%\n",
      "Bahamas has employement rate of 66.60%\n",
      "Bahrain has employement rate of 60.40%\n",
      "Bangladesh has employement rate of 68.10%\n",
      "Barbados has employement rate of 66.90%\n",
      "Belarus has employement rate of 53.40%\n",
      "Belgium has employement rate of 48.60%\n",
      "Belize has employement rate of 56.80%\n",
      "Benin has employement rate of 71.60%\n",
      "Bhutan has employement rate of 58.40%\n",
      "Bolivia has employement rate of 70.40%\n",
      "Bosnia and Herzegovina has employement rate of 41.20%\n"
     ]
    }
   ],
   "source": [
    "for i in range(len(countries)):\n",
    "    print(\"{} has employement rate of {:.2f}%\".format(countries[i], employment[i]))"
   ]
  },
  {
   "cell_type": "code",
   "execution_count": 36,
   "id": "2a8223c7",
   "metadata": {},
   "outputs": [
    {
     "data": {
      "text/plain": [
       "58.68500003850001"
      ]
     },
     "execution_count": 36,
     "metadata": {},
     "output_type": "execute_result"
    }
   ],
   "source": [
    "employment.mean()"
   ]
  },
  {
   "cell_type": "code",
   "execution_count": 37,
   "id": "e80bd2cd",
   "metadata": {},
   "outputs": [
    {
     "data": {
      "text/plain": [
       "9.338269113687888"
      ]
     },
     "execution_count": 37,
     "metadata": {},
     "output_type": "execute_result"
    }
   ],
   "source": [
    "employment.std()"
   ]
  },
  {
   "cell_type": "code",
   "execution_count": 38,
   "id": "75f5a1c1",
   "metadata": {},
   "outputs": [
    {
     "data": {
      "text/plain": [
       "75.69999695"
      ]
     },
     "execution_count": 38,
     "metadata": {},
     "output_type": "execute_result"
    }
   ],
   "source": [
    "employment.max()"
   ]
  },
  {
   "cell_type": "code",
   "execution_count": 39,
   "id": "d12afdf9",
   "metadata": {},
   "outputs": [
    {
     "data": {
      "text/plain": [
       "1173.70000077"
      ]
     },
     "execution_count": 39,
     "metadata": {},
     "output_type": "execute_result"
    }
   ],
   "source": [
    "employment.sum()"
   ]
  },
  {
   "cell_type": "code",
   "execution_count": 48,
   "id": "7be3ff79",
   "metadata": {},
   "outputs": [
    {
     "data": {
      "text/plain": [
       "(array([3]),)"
      ]
     },
     "execution_count": 48,
     "metadata": {},
     "output_type": "execute_result"
    }
   ],
   "source": [
    "np.where(employment == employment.max())"
   ]
  },
  {
   "cell_type": "code",
   "execution_count": 51,
   "id": "23d953a3",
   "metadata": {},
   "outputs": [
    {
     "data": {
      "text/plain": [
       "array(['Angola'], dtype='<U22')"
      ]
     },
     "execution_count": 51,
     "metadata": {},
     "output_type": "execute_result"
    }
   ],
   "source": [
    "country = countries[np.where(employment == employment.max())]\n",
    "country"
   ]
  },
  {
   "cell_type": "code",
   "execution_count": 52,
   "id": "686faa6c",
   "metadata": {},
   "outputs": [
    {
     "data": {
      "text/plain": [
       "array(['Armenia', 'Belgium', 'Bosnia and Herzegovina'], dtype='<U22')"
      ]
     },
     "execution_count": 52,
     "metadata": {},
     "output_type": "execute_result"
    }
   ],
   "source": [
    "countries[np.where(employment < 50.0)]"
   ]
  },
  {
   "cell_type": "markdown",
   "id": "8ad7bb51",
   "metadata": {},
   "source": [
    "## Vector Operations"
   ]
  },
  {
   "cell_type": "code",
   "execution_count": 66,
   "id": "54dc0bf1",
   "metadata": {},
   "outputs": [],
   "source": [
    "a = np.array([1,3,5])\n",
    "b = np.array([2,4,6])"
   ]
  },
  {
   "cell_type": "code",
   "execution_count": 86,
   "id": "3617577a",
   "metadata": {},
   "outputs": [
    {
     "data": {
      "text/plain": [
       "array([0.5, 1.5, 2.5])"
      ]
     },
     "execution_count": 86,
     "metadata": {},
     "output_type": "execute_result"
    }
   ],
   "source": [
    "a / 2"
   ]
  },
  {
   "cell_type": "code",
   "execution_count": 87,
   "id": "73e9974b",
   "metadata": {},
   "outputs": [
    {
     "data": {
      "text/plain": [
       "array([ 4, 16, 36])"
      ]
     },
     "execution_count": 87,
     "metadata": {},
     "output_type": "execute_result"
    }
   ],
   "source": [
    "b ** 2"
   ]
  },
  {
   "cell_type": "code",
   "execution_count": 88,
   "id": "6b7fc07a",
   "metadata": {},
   "outputs": [
    {
     "data": {
      "text/plain": [
       "array([False, False, False])"
      ]
     },
     "execution_count": 88,
     "metadata": {},
     "output_type": "execute_result"
    }
   ],
   "source": [
    "a > b"
   ]
  },
  {
   "cell_type": "code",
   "execution_count": 95,
   "id": "219bdd8a",
   "metadata": {},
   "outputs": [
    {
     "data": {
      "text/plain": [
       "array([False, False,  True])"
      ]
     },
     "execution_count": 95,
     "metadata": {},
     "output_type": "execute_result"
    }
   ],
   "source": [
    "a > 4"
   ]
  },
  {
   "cell_type": "code",
   "execution_count": 89,
   "id": "32ff7888",
   "metadata": {},
   "outputs": [],
   "source": [
    "x = np.array([True, False, True])\n",
    "y = np.array([False, True, True])"
   ]
  },
  {
   "cell_type": "code",
   "execution_count": 90,
   "id": "d6445df6",
   "metadata": {},
   "outputs": [
    {
     "data": {
      "text/plain": [
       "array([False, False,  True])"
      ]
     },
     "execution_count": 90,
     "metadata": {},
     "output_type": "execute_result"
    }
   ],
   "source": [
    "x & y"
   ]
  },
  {
   "cell_type": "code",
   "execution_count": 91,
   "id": "cb5f1150",
   "metadata": {},
   "outputs": [
    {
     "data": {
      "text/plain": [
       "array([ True, False,  True])"
      ]
     },
     "execution_count": 91,
     "metadata": {},
     "output_type": "execute_result"
    }
   ],
   "source": [
    "x & True"
   ]
  },
  {
   "cell_type": "code",
   "execution_count": 92,
   "id": "84ffd4ce",
   "metadata": {},
   "outputs": [
    {
     "data": {
      "text/plain": [
       "array([False,  True, False])"
      ]
     },
     "execution_count": 92,
     "metadata": {},
     "output_type": "execute_result"
    }
   ],
   "source": [
    "~x"
   ]
  },
  {
   "cell_type": "code",
   "execution_count": 93,
   "id": "0c4e8b69",
   "metadata": {},
   "outputs": [
    {
     "data": {
      "text/plain": [
       "array([ True, False, False])"
      ]
     },
     "execution_count": 93,
     "metadata": {},
     "output_type": "execute_result"
    }
   ],
   "source": [
    "x > y"
   ]
  },
  {
   "cell_type": "code",
   "execution_count": 94,
   "id": "e3005e49",
   "metadata": {},
   "outputs": [
    {
     "data": {
      "text/plain": [
       "array([False, False,  True])"
      ]
     },
     "execution_count": 94,
     "metadata": {},
     "output_type": "execute_result"
    }
   ],
   "source": [
    "x == y"
   ]
  },
  {
   "cell_type": "code",
   "execution_count": 97,
   "id": "b8e415d3",
   "metadata": {},
   "outputs": [],
   "source": [
    "female_completion = np.array([\n",
    "    97.35583,  104.62379,  103.02998,   95.14321,  103.69019,\n",
    "    98.49185,  100.88828,   95.43974,   92.11484,   91.54804,\n",
    "    95.98029,   98.22902,   96.12179,  119.28105,   97.84627,\n",
    "    29.07386,   38.41644,   90.70509,   51.7478 ,   95.45072\n",
    "])\n",
    "\n",
    "male_completion = np.array([\n",
    "     95.47622,  100.66476,   99.7926 ,   91.48936,  103.22096,\n",
    "     97.80458,  103.81398,   88.11736,   93.55611,   87.76347,\n",
    "    102.45714,   98.73953,   92.22388,  115.3892 ,   98.70502,\n",
    "     37.00692,   45.39401,   91.22084,   62.42028,   90.66958\n",
    "])"
   ]
  },
  {
   "cell_type": "code",
   "execution_count": 101,
   "id": "f78f6766",
   "metadata": {},
   "outputs": [
    {
     "data": {
      "text/plain": [
       "array([ 96.416025, 102.644275, 101.41129 ,  93.316285, 103.455575,\n",
       "        98.148215, 102.35113 ,  91.77855 ,  92.835475,  89.655755,\n",
       "        99.218715,  98.484275,  94.172835, 117.335125,  98.275645,\n",
       "        33.04039 ,  41.905225,  90.962965,  57.08404 ,  93.06015 ])"
      ]
     },
     "execution_count": 101,
     "metadata": {},
     "output_type": "execute_result"
    }
   ],
   "source": [
    "overall_completion = (female_completion + male_completion) / 2\n",
    "overall_completion"
   ]
  },
  {
   "cell_type": "code",
   "execution_count": 102,
   "id": "af133ce0",
   "metadata": {},
   "outputs": [],
   "source": [
    "# Standardizing values\n",
    "\n",
    "def standardize(values):\n",
    "    return (values - values.mean()) / values.std()"
   ]
  },
  {
   "cell_type": "code",
   "execution_count": 103,
   "id": "70265828",
   "metadata": {},
   "outputs": [
    {
     "data": {
      "text/plain": [
       "array([-1.22474487,  0.        ,  1.22474487])"
      ]
     },
     "execution_count": 103,
     "metadata": {},
     "output_type": "execute_result"
    }
   ],
   "source": [
    "standardize(a)"
   ]
  },
  {
   "cell_type": "code",
   "execution_count": 104,
   "id": "e25aadae",
   "metadata": {},
   "outputs": [
    {
     "data": {
      "text/plain": [
       "array([-1.22474487,  0.        ,  1.22474487])"
      ]
     },
     "execution_count": 104,
     "metadata": {},
     "output_type": "execute_result"
    }
   ],
   "source": [
    "standardize(b)"
   ]
  },
  {
   "cell_type": "code",
   "execution_count": 105,
   "id": "520370af",
   "metadata": {},
   "outputs": [
    {
     "data": {
      "text/plain": [
       "array([-0.31965231, -0.780123  , -0.87650077,  1.82207181, -0.03051941,\n",
       "       -1.99019768,  0.30144772, -0.16973184,  0.23719615,  0.84758731,\n",
       "        0.18365304,  1.00821665,  0.87971351, -0.56595055, -1.07996476,\n",
       "       -0.20185762,  1.38301845, -0.03051941,  1.2545153 , -1.87240259])"
      ]
     },
     "execution_count": 105,
     "metadata": {},
     "output_type": "execute_result"
    }
   ],
   "source": [
    "standardize(employment)"
   ]
  },
  {
   "cell_type": "code",
   "execution_count": 109,
   "id": "21134c54",
   "metadata": {},
   "outputs": [
    {
     "data": {
      "text/plain": [
       "(array([1, 3, 5]), array([2, 4, 6]))"
      ]
     },
     "execution_count": 109,
     "metadata": {},
     "output_type": "execute_result"
    }
   ],
   "source": [
    "a, b"
   ]
  },
  {
   "cell_type": "code",
   "execution_count": 110,
   "id": "d797e38c",
   "metadata": {},
   "outputs": [
    {
     "data": {
      "text/plain": [
       "(array([ True, False,  True]), array([False,  True,  True]))"
      ]
     },
     "execution_count": 110,
     "metadata": {},
     "output_type": "execute_result"
    }
   ],
   "source": [
    "x, y"
   ]
  },
  {
   "cell_type": "code",
   "execution_count": 114,
   "id": "69672de4",
   "metadata": {},
   "outputs": [
    {
     "data": {
      "text/plain": [
       "(array([1, 5]), array([3, 5]))"
      ]
     },
     "execution_count": 114,
     "metadata": {},
     "output_type": "execute_result"
    }
   ],
   "source": [
    "a[x], a[y]"
   ]
  },
  {
   "cell_type": "code",
   "execution_count": 115,
   "id": "2ab74d54",
   "metadata": {},
   "outputs": [
    {
     "data": {
      "text/plain": [
       "(array([2, 6]), array([4, 6]))"
      ]
     },
     "execution_count": 115,
     "metadata": {},
     "output_type": "execute_result"
    }
   ],
   "source": [
    "b[x], b[y]"
   ]
  },
  {
   "cell_type": "code",
   "execution_count": 117,
   "id": "a18c71b7",
   "metadata": {},
   "outputs": [
    {
     "data": {
      "text/plain": [
       "array([False,  True,  True])"
      ]
     },
     "execution_count": 117,
     "metadata": {},
     "output_type": "execute_result"
    }
   ],
   "source": [
    "c = a > 2\n",
    "c"
   ]
  },
  {
   "cell_type": "code",
   "execution_count": 139,
   "id": "8dae30f3",
   "metadata": {},
   "outputs": [
    {
     "data": {
      "text/plain": [
       "(array([3, 5]), array([3, 5]))"
      ]
     },
     "execution_count": 139,
     "metadata": {},
     "output_type": "execute_result"
    }
   ],
   "source": [
    "a[c], a[a > 2]"
   ]
  },
  {
   "cell_type": "code",
   "execution_count": 140,
   "id": "338357fa",
   "metadata": {},
   "outputs": [
    {
     "data": {
      "text/plain": [
       "array([3])"
      ]
     },
     "execution_count": 140,
     "metadata": {},
     "output_type": "execute_result"
    }
   ],
   "source": [
    "a[(a < b) & (a / 3 == 1)]"
   ]
  },
  {
   "cell_type": "code",
   "execution_count": 142,
   "id": "40857d0b",
   "metadata": {},
   "outputs": [],
   "source": [
    "'''\n",
    "Find the mean time spent in the classroom for students who stayed enrolled at least \n",
    "(greater than or equal to) 7 days. You can assume that days_to_cancel \n",
    "will contain only integers (there are no students who have not canceled yet).\n",
    "\n",
    "The arguments are NumPy arrays. time_spent contains the amount of time spent\n",
    "in the classroom for each student, and days_to_cancel contains the number\n",
    "of days until each student cancel. The data is given in the same order\n",
    "in both arrays.\n",
    "'''\n",
    "\n",
    "time_spent = np.array([\n",
    "       12.89697233,    0.        ,   64.55043217,    0.        ,\n",
    "       24.2315615 ,   39.991625  ,    0.        ,    0.        ,\n",
    "      147.20683783,    0.        ,    0.        ,    0.        ,\n",
    "       45.18261617,  157.60454283,  133.2434615 ,   52.85000767,\n",
    "        0.        ,   54.9204785 ,   26.78142417,    0.\n",
    "])\n",
    "\n",
    "days_to_cancel = np.array([\n",
    "      4,   5,  37,   3,  12,   4,  35,  38,   5,  37,   3,   3,  68,\n",
    "     38,  98,   2, 249,   2, 127,  35\n",
    "])"
   ]
  },
  {
   "cell_type": "code",
   "execution_count": 143,
   "id": "eb958c97",
   "metadata": {},
   "outputs": [
    {
     "data": {
      "text/plain": [
       "41.05400348545454"
      ]
     },
     "execution_count": 143,
     "metadata": {},
     "output_type": "execute_result"
    }
   ],
   "source": [
    "time_spent[days_to_cancel >= 7].mean()"
   ]
  },
  {
   "cell_type": "code",
   "execution_count": 144,
   "id": "b68853b1",
   "metadata": {},
   "outputs": [
    {
     "data": {
      "text/plain": [
       "(array([1, 3, 5]), array([2, 4, 6]))"
      ]
     },
     "execution_count": 144,
     "metadata": {},
     "output_type": "execute_result"
    }
   ],
   "source": [
    "a, b"
   ]
  },
  {
   "cell_type": "code",
   "execution_count": 145,
   "id": "cb4199f5",
   "metadata": {},
   "outputs": [],
   "source": [
    "aa = a"
   ]
  },
  {
   "cell_type": "code",
   "execution_count": 146,
   "id": "0b81e2f3",
   "metadata": {},
   "outputs": [
    {
     "data": {
      "text/plain": [
       "array([1, 3, 5])"
      ]
     },
     "execution_count": 146,
     "metadata": {},
     "output_type": "execute_result"
    }
   ],
   "source": [
    "aa"
   ]
  },
  {
   "cell_type": "code",
   "execution_count": 147,
   "id": "c0d3f7c3",
   "metadata": {},
   "outputs": [],
   "source": [
    "aa += 2"
   ]
  },
  {
   "cell_type": "code",
   "execution_count": 148,
   "id": "196ff18d",
   "metadata": {},
   "outputs": [
    {
     "data": {
      "text/plain": [
       "(array([3, 5, 7]), array([3, 5, 7]))"
      ]
     },
     "execution_count": 148,
     "metadata": {},
     "output_type": "execute_result"
    }
   ],
   "source": [
    "a, aa"
   ]
  },
  {
   "cell_type": "code",
   "execution_count": 149,
   "id": "0beca7b9",
   "metadata": {},
   "outputs": [],
   "source": [
    "bb = b"
   ]
  },
  {
   "cell_type": "code",
   "execution_count": 150,
   "id": "e0d05ddd",
   "metadata": {},
   "outputs": [],
   "source": [
    "b = b + 10"
   ]
  },
  {
   "cell_type": "code",
   "execution_count": 151,
   "id": "e662ee2e",
   "metadata": {},
   "outputs": [
    {
     "data": {
      "text/plain": [
       "(array([12, 14, 16]), array([2, 4, 6]))"
      ]
     },
     "execution_count": 151,
     "metadata": {},
     "output_type": "execute_result"
    }
   ],
   "source": [
    "b, bb"
   ]
  },
  {
   "cell_type": "code",
   "execution_count": 152,
   "id": "0f4efbe1",
   "metadata": {},
   "outputs": [],
   "source": [
    "bb = b"
   ]
  },
  {
   "cell_type": "code",
   "execution_count": 153,
   "id": "4fff68d6",
   "metadata": {},
   "outputs": [
    {
     "data": {
      "text/plain": [
       "(array([12, 14, 16]), array([12, 14, 16]))"
      ]
     },
     "execution_count": 153,
     "metadata": {},
     "output_type": "execute_result"
    }
   ],
   "source": [
    "b, bb"
   ]
  },
  {
   "cell_type": "code",
   "execution_count": null,
   "id": "a904d427",
   "metadata": {},
   "outputs": [],
   "source": []
  },
  {
   "cell_type": "code",
   "execution_count": null,
   "id": "0c23e5bc",
   "metadata": {},
   "outputs": [],
   "source": []
  }
 ],
 "metadata": {
  "kernelspec": {
   "display_name": "Python [conda env:io] *",
   "language": "python",
   "name": "conda-env-io-py"
  },
  "language_info": {
   "codemirror_mode": {
    "name": "ipython",
    "version": 3
   },
   "file_extension": ".py",
   "mimetype": "text/x-python",
   "name": "python",
   "nbconvert_exporter": "python",
   "pygments_lexer": "ipython3",
   "version": "3.9.15"
  }
 },
 "nbformat": 4,
 "nbformat_minor": 5
}
