{
 "cells": [
  {
   "cell_type": "code",
   "execution_count": 4,
   "id": "40918790",
   "metadata": {},
   "outputs": [],
   "source": [
    "import pandas as pd"
   ]
  },
  {
   "cell_type": "code",
   "execution_count": 92,
   "id": "10740db9",
   "metadata": {},
   "outputs": [],
   "source": [
    "countries_values = ['Albania', 'Algeria', 'Andorra', 'Angola', 'Antigua and Barbuda',\n",
    "             'Argentina', 'Armenia', 'Australia', 'Austria', 'Azerbaijan',\n",
    "             'Bahamas', 'Bahrain', 'Bangladesh', 'Barbados', 'Belarus',\n",
    "             'Belgium', 'Belize', 'Benin', 'Bhutan', 'Bolivia']\n",
    "\n",
    "life_expectancy_values = [74.7,  75. ,  83.4,  57.6,  74.6,  75.4,  72.3,  81.5,  80.2,\n",
    "                          70.3,  72.1,  76.4,  68.1,  75.2,  69.8,  79.4,  70.8,  62.7,\n",
    "                          67.3,  70.6]\n",
    "\n",
    "gdp_values = [ 1681.61390973,   2155.48523109,  21495.80508273,    562.98768478,\n",
    "              13495.1274663 ,   9388.68852258,   1424.19056199,  24765.54890176,\n",
    "              27036.48733192,   1945.63754911,  21721.61840978,  13373.21993972,\n",
    "                483.97086804,   9783.98417323,   2253.46411147,  25034.66692293,\n",
    "               3680.91642923,    366.04496652,   1175.92638695,   1132.21387981]"
   ]
  },
  {
   "cell_type": "code",
   "execution_count": 93,
   "id": "9fc3189c",
   "metadata": {},
   "outputs": [],
   "source": [
    "countries = pd.Series(countries_values)\n",
    "life_expectancy = pd.Series(life_expectancy_values)\n",
    "gdp = pd.Series(gdp_values)"
   ]
  },
  {
   "cell_type": "code",
   "execution_count": 13,
   "id": "6a8614f4",
   "metadata": {},
   "outputs": [
    {
     "data": {
      "text/plain": [
       "74.7"
      ]
     },
     "execution_count": 13,
     "metadata": {},
     "output_type": "execute_result"
    }
   ],
   "source": [
    "life_expectancy[0]"
   ]
  },
  {
   "cell_type": "code",
   "execution_count": 14,
   "id": "8dc68393",
   "metadata": {},
   "outputs": [
    {
     "data": {
      "text/plain": [
       "3      562.987685\n",
       "4    13495.127466\n",
       "5     9388.688523\n",
       "dtype: float64"
      ]
     },
     "execution_count": 14,
     "metadata": {},
     "output_type": "execute_result"
    }
   ],
   "source": [
    "gdp[3:6]"
   ]
  },
  {
   "cell_type": "code",
   "execution_count": 15,
   "id": "f1e5a955",
   "metadata": {},
   "outputs": [
    {
     "data": {
      "text/plain": [
       "7      Australia\n",
       "8        Austria\n",
       "9     Azerbaijan\n",
       "10       Bahamas\n",
       "11       Bahrain\n",
       "12    Bangladesh\n",
       "13      Barbados\n",
       "14       Belarus\n",
       "15       Belgium\n",
       "16        Belize\n",
       "17         Benin\n",
       "18        Bhutan\n",
       "19       Bolivia\n",
       "dtype: object"
      ]
     },
     "execution_count": 15,
     "metadata": {},
     "output_type": "execute_result"
    }
   ],
   "source": [
    "countries[7:]"
   ]
  },
  {
   "cell_type": "code",
   "execution_count": 16,
   "id": "3cb64ce1",
   "metadata": {},
   "outputs": [
    {
     "name": "stdout",
     "output_type": "stream",
     "text": [
      "Life expectancy of 74.7 for Albania\n",
      "Life expectancy of 75.0 for Algeria\n",
      "Life expectancy of 83.4 for Andorra\n",
      "Life expectancy of 57.6 for Angola\n",
      "Life expectancy of 74.6 for Antigua and Barbuda\n",
      "Life expectancy of 75.4 for Argentina\n",
      "Life expectancy of 72.3 for Armenia\n",
      "Life expectancy of 81.5 for Australia\n",
      "Life expectancy of 80.2 for Austria\n",
      "Life expectancy of 70.3 for Azerbaijan\n",
      "Life expectancy of 72.1 for Bahamas\n",
      "Life expectancy of 76.4 for Bahrain\n",
      "Life expectancy of 68.1 for Bangladesh\n",
      "Life expectancy of 75.2 for Barbados\n",
      "Life expectancy of 69.8 for Belarus\n",
      "Life expectancy of 79.4 for Belgium\n",
      "Life expectancy of 70.8 for Belize\n",
      "Life expectancy of 62.7 for Benin\n",
      "Life expectancy of 67.3 for Bhutan\n",
      "Life expectancy of 70.6 for Bolivia\n"
     ]
    }
   ],
   "source": [
    "for i in range(len(countries)):\n",
    "    print(\"Life expectancy of {} for {}\".format(life_expectancy[i], countries[i]))"
   ]
  },
  {
   "cell_type": "code",
   "execution_count": 17,
   "id": "e6955db9",
   "metadata": {},
   "outputs": [
    {
     "data": {
      "text/plain": [
       "72.86999999999999"
      ]
     },
     "execution_count": 17,
     "metadata": {},
     "output_type": "execute_result"
    }
   ],
   "source": [
    "life_expectancy.mean()"
   ]
  },
  {
   "cell_type": "code",
   "execution_count": 20,
   "id": "c2fbeb0b",
   "metadata": {},
   "outputs": [
    {
     "data": {
      "text/plain": [
       "(9763.958972533614, 182957.59832967006, 27036.48733192)"
      ]
     },
     "execution_count": 20,
     "metadata": {},
     "output_type": "execute_result"
    }
   ],
   "source": [
    "gdp.std(), gdp.sum(), gdp.max()"
   ]
  },
  {
   "cell_type": "code",
   "execution_count": 21,
   "id": "07bc357c",
   "metadata": {},
   "outputs": [],
   "source": [
    "a = pd.Series([1, 2, 3, 4])\n",
    "b = pd.Series([1, 2, 1, 2])"
   ]
  },
  {
   "cell_type": "code",
   "execution_count": 22,
   "id": "8be4ada9",
   "metadata": {},
   "outputs": [
    {
     "data": {
      "text/plain": [
       "0    2\n",
       "1    4\n",
       "2    4\n",
       "3    6\n",
       "dtype: int64"
      ]
     },
     "execution_count": 22,
     "metadata": {},
     "output_type": "execute_result"
    }
   ],
   "source": [
    "a + b"
   ]
  },
  {
   "cell_type": "code",
   "execution_count": 23,
   "id": "868e4bfd",
   "metadata": {},
   "outputs": [
    {
     "data": {
      "text/plain": [
       "0     1\n",
       "1     4\n",
       "2     9\n",
       "3    16\n",
       "dtype: int64"
      ]
     },
     "execution_count": 23,
     "metadata": {},
     "output_type": "execute_result"
    }
   ],
   "source": [
    "a ** 2"
   ]
  },
  {
   "cell_type": "code",
   "execution_count": 25,
   "id": "6a48702b",
   "metadata": {},
   "outputs": [
    {
     "data": {
      "text/plain": [
       "0    False\n",
       "1    False\n",
       "2     True\n",
       "3     True\n",
       "dtype: bool"
      ]
     },
     "execution_count": 25,
     "metadata": {},
     "output_type": "execute_result"
    }
   ],
   "source": [
    "a > 2"
   ]
  },
  {
   "cell_type": "code",
   "execution_count": 26,
   "id": "e75092e7",
   "metadata": {},
   "outputs": [
    {
     "data": {
      "text/plain": [
       "2    3\n",
       "3    4\n",
       "dtype: int64"
      ]
     },
     "execution_count": 26,
     "metadata": {},
     "output_type": "execute_result"
    }
   ],
   "source": [
    "a[a > 2]"
   ]
  },
  {
   "cell_type": "code",
   "execution_count": 30,
   "id": "9ce8b7fa",
   "metadata": {},
   "outputs": [
    {
     "data": {
      "text/plain": [
       "(0, 4)"
      ]
     },
     "execution_count": 30,
     "metadata": {},
     "output_type": "execute_result"
    }
   ],
   "source": [
    "'''\n",
    "    Write a function to calculate the number of data points for which\n",
    "    the directions of one and two relative to the mean are the\n",
    "    same, and the number of data points for which they are different.\n",
    "    Direction here means whether each value is above or below its mean.\n",
    "    \n",
    "    You can classify cases where the value is equal to the mean for one or\n",
    "    both variables however you like.\n",
    "    \n",
    "    Each argument will be a Pandas series.\n",
    "    \n",
    "    For example, if the inputs were pd.Series([1, 2, 3, 4]) and\n",
    "    pd.Series([4, 5, 6, 7]), then the output would be (4, 0).\n",
    "    This is because 1 and 4 are both below their means, 2 and 5 are both\n",
    "    below, 3 and 6 are both above, and 4 and 7 are both above.\n",
    "    \n",
    "    On the other hand, if the inputs were pd.Series([1, 2, 3, 4]) and\n",
    "    pd.Series([7, 6, 5, 4]), then the output would be (0, 4).\n",
    "    This is because 1 is below its mean but 7 is above its mean, and\n",
    "    so on.\n",
    "'''\n",
    "\n",
    "def variable_cor(one, two):\n",
    "    bool_one = one > one.mean()\n",
    "    bool_two = two > two.mean()\n",
    "    \n",
    "    return (sum(bool_one != bool_two), sum(bool_one == bool_two))\n",
    "\n",
    "x = pd.Series([1, 2, 3, 4])\n",
    "y = pd.Series([4, 5, 6, 7])\n",
    "\n",
    "variable_cor(x, y)"
   ]
  },
  {
   "cell_type": "code",
   "execution_count": 31,
   "id": "6216c669",
   "metadata": {},
   "outputs": [],
   "source": [
    "countries = [\n",
    "    'Afghanistan', 'Albania', 'Algeria', 'Angola',\n",
    "    'Argentina', 'Armenia', 'Australia', 'Austria',\n",
    "    'Azerbaijan', 'Bahamas', 'Bahrain', 'Bangladesh',\n",
    "    'Barbados', 'Belarus', 'Belgium', 'Belize',\n",
    "    'Benin', 'Bhutan', 'Bolivia', 'Bosnia and Herzegovina',\n",
    "]\n",
    "\n",
    "\n",
    "employment_values = [\n",
    "    55.70000076,  51.40000153,  50.5       ,  75.69999695,\n",
    "    58.40000153,  40.09999847,  61.5       ,  57.09999847,\n",
    "    60.90000153,  66.59999847,  60.40000153,  68.09999847,\n",
    "    66.90000153,  53.40000153,  48.59999847,  56.79999924,\n",
    "    71.59999847,  58.40000153,  70.40000153,  41.20000076,\n",
    "]\n",
    "\n",
    "employment = pd.Series(employment_values, index=countries)"
   ]
  },
  {
   "cell_type": "code",
   "execution_count": 34,
   "id": "ad1500a1",
   "metadata": {},
   "outputs": [
    {
     "data": {
      "text/plain": [
       "Afghanistan               55.700001\n",
       "Albania                   51.400002\n",
       "Algeria                   50.500000\n",
       "Angola                    75.699997\n",
       "Argentina                 58.400002\n",
       "Armenia                   40.099998\n",
       "Australia                 61.500000\n",
       "Austria                   57.099998\n",
       "Azerbaijan                60.900002\n",
       "Bahamas                   66.599998\n",
       "Bahrain                   60.400002\n",
       "Bangladesh                68.099998\n",
       "Barbados                  66.900002\n",
       "Belarus                   53.400002\n",
       "Belgium                   48.599998\n",
       "Belize                    56.799999\n",
       "Benin                     71.599998\n",
       "Bhutan                    58.400002\n",
       "Bolivia                   70.400002\n",
       "Bosnia and Herzegovina    41.200001\n",
       "dtype: float64"
      ]
     },
     "execution_count": 34,
     "metadata": {},
     "output_type": "execute_result"
    }
   ],
   "source": [
    "employment"
   ]
  },
  {
   "cell_type": "code",
   "execution_count": 36,
   "id": "416b62a2",
   "metadata": {},
   "outputs": [
    {
     "data": {
      "text/plain": [
       "'Angola'"
      ]
     },
     "execution_count": 36,
     "metadata": {},
     "output_type": "execute_result"
    }
   ],
   "source": [
    "employment.idxmax()"
   ]
  },
  {
   "cell_type": "code",
   "execution_count": 37,
   "id": "e8046fe7",
   "metadata": {},
   "outputs": [
    {
     "data": {
      "text/plain": [
       "3"
      ]
     },
     "execution_count": 37,
     "metadata": {},
     "output_type": "execute_result"
    }
   ],
   "source": [
    "employment.values.argmax()"
   ]
  },
  {
   "cell_type": "code",
   "execution_count": 38,
   "id": "3c7b97e8",
   "metadata": {},
   "outputs": [
    {
     "data": {
      "text/plain": [
       "75.69999695"
      ]
     },
     "execution_count": 38,
     "metadata": {},
     "output_type": "execute_result"
    }
   ],
   "source": [
    "employment[3]"
   ]
  },
  {
   "cell_type": "code",
   "execution_count": 39,
   "id": "c0740df8",
   "metadata": {},
   "outputs": [
    {
     "data": {
      "text/plain": [
       "75.69999695"
      ]
     },
     "execution_count": 39,
     "metadata": {},
     "output_type": "execute_result"
    }
   ],
   "source": [
    "employment[employment.idxmax()]"
   ]
  },
  {
   "cell_type": "code",
   "execution_count": 51,
   "id": "d318f569",
   "metadata": {},
   "outputs": [],
   "source": [
    "s1 = pd.Series([1, 2, 3, 4], index=['a', 'b', 'c', 'd'])\n",
    "s2 = pd.Series([10, 20, 30, 40], index=['a', 'b', 'c', 'd'])"
   ]
  },
  {
   "cell_type": "code",
   "execution_count": 52,
   "id": "9bdc4f78",
   "metadata": {},
   "outputs": [
    {
     "data": {
      "text/plain": [
       "a    11\n",
       "b    22\n",
       "c    33\n",
       "d    44\n",
       "dtype: int64"
      ]
     },
     "execution_count": 52,
     "metadata": {},
     "output_type": "execute_result"
    }
   ],
   "source": [
    "s1 + s2"
   ]
  },
  {
   "cell_type": "code",
   "execution_count": 53,
   "id": "e1a86799",
   "metadata": {},
   "outputs": [],
   "source": [
    "s1 = pd.Series([1, 2, 3, 4], index=['a', 'b', 'c', 'd'])\n",
    "s2 = pd.Series([10, 20, 30, 40], index=['b', 'a', 'c', 'd'])"
   ]
  },
  {
   "cell_type": "code",
   "execution_count": 54,
   "id": "1b4c7687",
   "metadata": {},
   "outputs": [
    {
     "data": {
      "text/plain": [
       "a    21\n",
       "b    12\n",
       "c    33\n",
       "d    44\n",
       "dtype: int64"
      ]
     },
     "execution_count": 54,
     "metadata": {},
     "output_type": "execute_result"
    }
   ],
   "source": [
    "s1 + s2"
   ]
  },
  {
   "cell_type": "code",
   "execution_count": 55,
   "id": "3dbd1b32",
   "metadata": {},
   "outputs": [
    {
     "data": {
      "text/plain": [
       "a     NaN\n",
       "b     NaN\n",
       "c    13.0\n",
       "d    24.0\n",
       "e     NaN\n",
       "f     NaN\n",
       "dtype: float64"
      ]
     },
     "execution_count": 55,
     "metadata": {},
     "output_type": "execute_result"
    }
   ],
   "source": [
    "s1 = pd.Series([1, 2, 3, 4], index=['a', 'b', 'c', 'd'])\n",
    "s2 = pd.Series([10, 20, 30, 40], index=['c', 'd', 'e', 'f'])\n",
    "\n",
    "s1 + s2"
   ]
  },
  {
   "cell_type": "code",
   "execution_count": 56,
   "id": "b23e9a2d",
   "metadata": {},
   "outputs": [
    {
     "data": {
      "text/plain": [
       "a   NaN\n",
       "b   NaN\n",
       "c   NaN\n",
       "d   NaN\n",
       "e   NaN\n",
       "f   NaN\n",
       "g   NaN\n",
       "h   NaN\n",
       "dtype: float64"
      ]
     },
     "execution_count": 56,
     "metadata": {},
     "output_type": "execute_result"
    }
   ],
   "source": [
    "s1 = pd.Series([1, 2, 3, 4], index=['a', 'b', 'c', 'd'])\n",
    "s2 = pd.Series([10, 20, 30, 40], index=['e', 'f', 'g', 'h'])\n",
    "\n",
    "s1 + s2"
   ]
  },
  {
   "cell_type": "code",
   "execution_count": 57,
   "id": "8bbcf62e",
   "metadata": {},
   "outputs": [
    {
     "data": {
      "text/plain": [
       "a     1.0\n",
       "b     2.0\n",
       "c     3.0\n",
       "d     4.0\n",
       "e    10.0\n",
       "f    20.0\n",
       "g    30.0\n",
       "h    40.0\n",
       "dtype: float64"
      ]
     },
     "execution_count": 57,
     "metadata": {},
     "output_type": "execute_result"
    }
   ],
   "source": [
    "s1 = pd.Series([1, 2, 3, 4], index=['a', 'b', 'c', 'd'])\n",
    "s2 = pd.Series([10, 20, 30, 40], index=['e', 'f', 'g', 'h'])\n",
    "\n",
    "s1.add(s2, fill_value=0)"
   ]
  },
  {
   "cell_type": "code",
   "execution_count": 58,
   "id": "320331fe",
   "metadata": {},
   "outputs": [],
   "source": [
    "s = pd.Series([1, 2, 3, 4, 5])"
   ]
  },
  {
   "cell_type": "code",
   "execution_count": 61,
   "id": "e91ff708",
   "metadata": {},
   "outputs": [
    {
     "data": {
      "text/plain": [
       "0    3\n",
       "1    4\n",
       "2    5\n",
       "3    6\n",
       "4    7\n",
       "dtype: int64"
      ]
     },
     "execution_count": 61,
     "metadata": {},
     "output_type": "execute_result"
    }
   ],
   "source": [
    "s.apply(lambda x: x + 2)"
   ]
  },
  {
   "cell_type": "code",
   "execution_count": 83,
   "id": "5618e1a8",
   "metadata": {},
   "outputs": [
    {
     "data": {
      "text/plain": [
       "0             Agassi, Andre\n",
       "1              Bonds, Barry\n",
       "2     Columbus, Christopher\n",
       "3             Defoe, Daniel\n",
       "4           Estevez, Emilio\n",
       "5          Flintstone, Fred\n",
       "6              Garbo, Greta\n",
       "7          Humbert, Humbert\n",
       "8               Ilych, Ivan\n",
       "9              Joyce, James\n",
       "10         Knightley, Keira\n",
       "11               Lane, Lois\n",
       "12              Myers, Mike\n",
       "13              Nolte, Nick\n",
       "14           Osbourne, Ozzy\n",
       "15           Picasso, Pablo\n",
       "16       Quirrell, Quirinus\n",
       "17             Ray, Rachael\n",
       "18          Sarandon, Susan\n",
       "19             Turner, Tina\n",
       "20           Urbina, Ugueth\n",
       "21            Vaughn, Vince\n",
       "22          Wilson, Woodrow\n",
       "23             Yamada, Yoji\n",
       "24         Zidane, Zinedine\n",
       "dtype: object"
      ]
     },
     "execution_count": 83,
     "metadata": {},
     "output_type": "execute_result"
    }
   ],
   "source": [
    "names = pd.Series([\n",
    "    'Andre Agassi',\n",
    "    'Barry Bonds',\n",
    "    'Christopher Columbus',\n",
    "    'Daniel Defoe',\n",
    "    'Emilio Estevez',\n",
    "    'Fred Flintstone',\n",
    "    'Greta Garbo',\n",
    "    'Humbert Humbert',\n",
    "    'Ivan Ilych',\n",
    "    'James Joyce',\n",
    "    'Keira Knightley',\n",
    "    'Lois Lane',\n",
    "    'Mike Myers',\n",
    "    'Nick Nolte',\n",
    "    'Ozzy Osbourne',\n",
    "    'Pablo Picasso',\n",
    "    'Quirinus Quirrell',\n",
    "    'Rachael Ray',\n",
    "    'Susan Sarandon',\n",
    "    'Tina Turner',\n",
    "    'Ugueth Urbina',\n",
    "    'Vince Vaughn',\n",
    "    'Woodrow Wilson',\n",
    "    'Yoji Yamada',\n",
    "    'Zinedine Zidane'\n",
    "])\n",
    "\n",
    "'''\n",
    "Fill in this function to return a new series where each name\n",
    "in the input series has been transformed from the format\n",
    "\"Firstname Lastname\" to \"Lastname, FirstName\".\n",
    "\n",
    "Try to use the Pandas apply() function rather than a loop.\n",
    "'''\n",
    "\n",
    "names.apply(lambda name: \", \".join(name.split()[::-1]))"
   ]
  },
  {
   "cell_type": "code",
   "execution_count": 81,
   "id": "3ca38a12",
   "metadata": {},
   "outputs": [
    {
     "data": {
      "text/plain": [
       "['Agassi', 'Andre']"
      ]
     },
     "execution_count": 81,
     "metadata": {},
     "output_type": "execute_result"
    }
   ],
   "source": [
    "test = [\"Andre\", \"Agassi\"]\n",
    "\n",
    "test.reverse()\n",
    "\n",
    "test"
   ]
  },
  {
   "cell_type": "code",
   "execution_count": 86,
   "id": "4ca450e8",
   "metadata": {},
   "outputs": [
    {
     "data": {
      "text/plain": [
       "0     74.7\n",
       "1     75.0\n",
       "2     83.4\n",
       "3     57.6\n",
       "4     74.6\n",
       "5     75.4\n",
       "6     72.3\n",
       "7     81.5\n",
       "8     80.2\n",
       "9     70.3\n",
       "10    72.1\n",
       "11    76.4\n",
       "12    68.1\n",
       "13    75.2\n",
       "14    69.8\n",
       "15    79.4\n",
       "16    70.8\n",
       "17    62.7\n",
       "18    67.3\n",
       "19    70.6\n",
       "dtype: float64"
      ]
     },
     "execution_count": 86,
     "metadata": {},
     "output_type": "execute_result"
    }
   ],
   "source": [
    "life_expectancy"
   ]
  },
  {
   "cell_type": "code",
   "execution_count": 87,
   "id": "928546c7",
   "metadata": {},
   "outputs": [],
   "source": [
    "import matplotlib.pyplot as plt"
   ]
  },
  {
   "cell_type": "code",
   "execution_count": 95,
   "id": "3886d371",
   "metadata": {},
   "outputs": [
    {
     "data": {
      "text/plain": [
       "<AxesSubplot:>"
      ]
     },
     "execution_count": 95,
     "metadata": {},
     "output_type": "execute_result"
    },
    {
     "data": {
      "image/png": "[encoded data removed]",
      "text/plain": [
       "<Figure size 640x480 with 1 Axes>"
      ]
     },
     "metadata": {},
     "output_type": "display_data"
    }
   ],
   "source": [
    "life_expectancy.plot()"
   ]
  },
  {
   "cell_type": "code",
   "execution_count": null,
   "id": "f10137d4",
   "metadata": {},
   "outputs": [],
   "source": [
    "work_hours = pdSeries([7, 10, 0, 11], [\"Mon\",\"Tues\",\"Wed\", \"Thurs\", \"Fri\", \"Sat\"])"
   ]
  }
 ],
 "metadata": {
  "kernelspec": {
   "display_name": "Python [conda env:io] *",
   "language": "python",
   "name": "conda-env-io-py"
  },
  "language_info": {
   "codemirror_mode": {
    "name": "ipython",
    "version": 3
   },
   "file_extension": ".py",
   "mimetype": "text/x-python",
   "name": "python",
   "nbconvert_exporter": "python",
   "pygments_lexer": "ipython3",
   "version": "3.9.15"
  }
 },
 "nbformat": 4,
 "nbformat_minor": 5
}
