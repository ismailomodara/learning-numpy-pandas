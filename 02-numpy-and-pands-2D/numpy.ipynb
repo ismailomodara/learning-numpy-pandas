{
 "cells": [
  {
   "cell_type": "code",
   "execution_count": 3,
   "id": "0fcf22e8",
   "metadata": {},
   "outputs": [],
   "source": [
    "import numpy as np"
   ]
  },
  {
   "cell_type": "code",
   "execution_count": 4,
   "id": "5d65c648",
   "metadata": {},
   "outputs": [],
   "source": [
    "ridership = np.array([\n",
    "    [   0,    0,    2,    5,    0],\n",
    "    [1478, 3877, 3674, 2328, 2539],\n",
    "    [1613, 4088, 3991, 6461, 2691],\n",
    "    [1560, 3392, 3826, 4787, 2613],\n",
    "    [1608, 4802, 3932, 4477, 2705],\n",
    "    [1576, 3933, 3909, 4979, 2685],\n",
    "    [  95,  229,  255,  496,  201],\n",
    "    [   2,    0,    1,   27,    0],\n",
    "    [1438, 3785, 3589, 4174, 2215],\n",
    "    [1342, 4043, 4009, 4665, 3033]\n",
    "])"
   ]
  },
  {
   "cell_type": "code",
   "execution_count": 5,
   "id": "74f61756",
   "metadata": {},
   "outputs": [
    {
     "data": {
      "text/plain": [
       "array([[   0,    0,    2,    5,    0],\n",
       "       [1478, 3877, 3674, 2328, 2539],\n",
       "       [1613, 4088, 3991, 6461, 2691],\n",
       "       [1560, 3392, 3826, 4787, 2613],\n",
       "       [1608, 4802, 3932, 4477, 2705],\n",
       "       [1576, 3933, 3909, 4979, 2685],\n",
       "       [  95,  229,  255,  496,  201],\n",
       "       [   2,    0,    1,   27,    0],\n",
       "       [1438, 3785, 3589, 4174, 2215],\n",
       "       [1342, 4043, 4009, 4665, 3033]])"
      ]
     },
     "execution_count": 5,
     "metadata": {},
     "output_type": "execute_result"
    }
   ],
   "source": [
    "ridership"
   ]
  },
  {
   "cell_type": "code",
   "execution_count": 28,
   "id": "7a90ffad",
   "metadata": {},
   "outputs": [
    {
     "data": {
      "text/plain": [
       "array([0, 0, 2, 5, 0])"
      ]
     },
     "execution_count": 28,
     "metadata": {},
     "output_type": "execute_result"
    }
   ],
   "source": [
    "ridership[0]"
   ]
  },
  {
   "cell_type": "code",
   "execution_count": 32,
   "id": "4a3176ed",
   "metadata": {},
   "outputs": [
    {
     "data": {
      "text/plain": [
       "5"
      ]
     },
     "execution_count": 32,
     "metadata": {},
     "output_type": "execute_result"
    }
   ],
   "source": [
    "ridership[0, 3]"
   ]
  },
  {
   "cell_type": "code",
   "execution_count": 40,
   "id": "07de9676",
   "metadata": {},
   "outputs": [
    {
     "data": {
      "text/plain": [
       "array([[1560, 3392, 3826],\n",
       "       [1608, 4802, 3932],\n",
       "       [1576, 3933, 3909]])"
      ]
     },
     "execution_count": 40,
     "metadata": {},
     "output_type": "execute_result"
    }
   ],
   "source": [
    "ridership[3:6, :3]"
   ]
  },
  {
   "cell_type": "code",
   "execution_count": 43,
   "id": "993d2185",
   "metadata": {},
   "outputs": [
    {
     "data": {
      "text/plain": [
       "array([[   0,    0,    2,    5,    0],\n",
       "       [1478, 3877, 3674, 2328, 2539],\n",
       "       [1613, 4088, 3991, 6461, 2691]])"
      ]
     },
     "execution_count": 43,
     "metadata": {},
     "output_type": "execute_result"
    }
   ],
   "source": [
    "ridership[:3]"
   ]
  },
  {
   "cell_type": "code",
   "execution_count": 47,
   "id": "107ce998",
   "metadata": {},
   "outputs": [
    {
     "data": {
      "text/plain": [
       "array([1478, 3877, 3676, 2333, 2539])"
      ]
     },
     "execution_count": 47,
     "metadata": {},
     "output_type": "execute_result"
    }
   ],
   "source": [
    "ridership[0, :] + ridership[1,]"
   ]
  },
  {
   "cell_type": "code",
   "execution_count": 48,
   "id": "49986087",
   "metadata": {},
   "outputs": [
    {
     "data": {
      "text/plain": [
       "array([[1478, 3877, 3676, 2333, 2539],\n",
       "       [1613, 4088, 3993, 6466, 2691],\n",
       "       [1560, 3392, 3828, 4792, 2613],\n",
       "       [1608, 4802, 3934, 4482, 2705],\n",
       "       [1576, 3933, 3911, 4984, 2685],\n",
       "       [  95,  229,  257,  501,  201],\n",
       "       [   2,    0,    3,   32,    0],\n",
       "       [1438, 3785, 3591, 4179, 2215],\n",
       "       [1342, 4043, 4011, 4670, 3033]])"
      ]
     },
     "execution_count": 48,
     "metadata": {},
     "output_type": "execute_result"
    }
   ],
   "source": [
    "ridership[0, :] + ridership[1:]"
   ]
  },
  {
   "cell_type": "code",
   "execution_count": 50,
   "id": "1c111f5b",
   "metadata": {},
   "outputs": [],
   "source": [
    "a = np.array([[1, 2, 3], [4, 5, 6], [7, 8, 9]])\n",
    "b = np.array([[1, 1, 1], [2, 2, 2], [3, 3, 3]])"
   ]
  },
  {
   "cell_type": "code",
   "execution_count": 51,
   "id": "6dfb679b",
   "metadata": {},
   "outputs": [
    {
     "data": {
      "text/plain": [
       "array([[ 2,  3,  4],\n",
       "       [ 6,  7,  8],\n",
       "       [10, 11, 12]])"
      ]
     },
     "execution_count": 51,
     "metadata": {},
     "output_type": "execute_result"
    }
   ],
   "source": [
    "a + b"
   ]
  },
  {
   "cell_type": "code",
   "execution_count": 61,
   "id": "4ff5516c",
   "metadata": {},
   "outputs": [
    {
     "data": {
      "text/plain": [
       "3"
      ]
     },
     "execution_count": 61,
     "metadata": {},
     "output_type": "execute_result"
    }
   ],
   "source": [
    "'''\n",
    "    Find the station with the maximum riders on the\n",
    "    first day, then return the mean riders per day for that station. Also\n",
    "    return the mean ridership overall for comparsion.\n",
    "    \n",
    "    Hint: NumPy's argmax() function might be useful:\n",
    "    http://docs.scipy.org/doc/numpy/reference/generated/numpy.argmax.html\n",
    "'''\n",
    "\n",
    "np.argmax(ridership[0])"
   ]
  },
  {
   "cell_type": "code",
   "execution_count": 58,
   "id": "a2b37cbc",
   "metadata": {},
   "outputs": [
    {
     "data": {
      "text/plain": [
       "(3239.9, 2342.6)"
      ]
     },
     "execution_count": 58,
     "metadata": {},
     "output_type": "execute_result"
    }
   ],
   "source": [
    "ridership[:, 3].mean(), ridership.mean()"
   ]
  },
  {
   "cell_type": "code",
   "execution_count": 59,
   "id": "a2026f7b",
   "metadata": {},
   "outputs": [
    {
     "data": {
      "text/plain": [
       "(45, array([12, 15, 18]), array([ 6, 15, 24]))"
      ]
     },
     "execution_count": 59,
     "metadata": {},
     "output_type": "execute_result"
    }
   ],
   "source": [
    "a = np.array([\n",
    "        [1, 2, 3],\n",
    "        [4, 5, 6],\n",
    "        [7, 8, 9]\n",
    "    ])\n",
    "    \n",
    "a.sum(), a.sum(axis=0), a.sum(axis=1)"
   ]
  },
  {
   "cell_type": "code",
   "execution_count": 62,
   "id": "0a32dd19",
   "metadata": {},
   "outputs": [
    {
     "data": {
      "text/plain": [
       "array([1071.2, 2814.9, 2718.8, 3239.9, 1868.2])"
      ]
     },
     "execution_count": 62,
     "metadata": {},
     "output_type": "execute_result"
    }
   ],
   "source": [
    "'''\n",
    "    Fill in this function. First, for each subway station, calculate the\n",
    "    mean ridership per day. Then, out of all the subway stations, return the\n",
    "    maximum and minimum of these values. That is, find the maximum\n",
    "    mean-ridership-per-day and the minimum mean-ridership-per-day for any\n",
    "    subway station.\n",
    "'''\n",
    "\n",
    "ridership.mean(axis=0)"
   ]
  },
  {
   "cell_type": "code",
   "execution_count": 63,
   "id": "207caee8",
   "metadata": {},
   "outputs": [
    {
     "data": {
      "text/plain": [
       "1071.2"
      ]
     },
     "execution_count": 63,
     "metadata": {},
     "output_type": "execute_result"
    }
   ],
   "source": [
    "ridership.mean(axis=0).min()"
   ]
  },
  {
   "cell_type": "code",
   "execution_count": 64,
   "id": "d28f99f3",
   "metadata": {},
   "outputs": [
    {
     "data": {
      "text/plain": [
       "3239.9"
      ]
     },
     "execution_count": 64,
     "metadata": {},
     "output_type": "execute_result"
    }
   ],
   "source": [
    "ridership.mean(axis=0).max()"
   ]
  },
  {
   "cell_type": "code",
   "execution_count": 65,
   "id": "745888f2",
   "metadata": {},
   "outputs": [
    {
     "data": {
      "text/plain": [
       "array([1.4000e+00, 2.7792e+03, 3.7688e+03, 3.2356e+03, 3.5048e+03,\n",
       "       3.4164e+03, 2.5520e+02, 6.0000e+00, 3.0402e+03, 3.4184e+03])"
      ]
     },
     "execution_count": 65,
     "metadata": {},
     "output_type": "execute_result"
    }
   ],
   "source": [
    "ridership.mean(axis=1)"
   ]
  },
  {
   "cell_type": "code",
   "execution_count": null,
   "id": "dc7caafa",
   "metadata": {},
   "outputs": [],
   "source": []
  }
 ],
 "metadata": {
  "kernelspec": {
   "display_name": "Python [conda env:io] *",
   "language": "python",
   "name": "conda-env-io-py"
  },
  "language_info": {
   "codemirror_mode": {
    "name": "ipython",
    "version": 3
   },
   "file_extension": ".py",
   "mimetype": "text/x-python",
   "name": "python",
   "nbconvert_exporter": "python",
   "pygments_lexer": "ipython3",
   "version": "3.9.15"
  }
 },
 "nbformat": 4,
 "nbformat_minor": 5
}
