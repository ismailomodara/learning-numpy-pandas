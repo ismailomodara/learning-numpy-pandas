{
 "cells": [
  {
   "cell_type": "code",
   "execution_count": 3,
   "id": "643c2af2",
   "metadata": {},
   "outputs": [],
   "source": [
    "import numpy as np"
   ]
  },
  {
   "cell_type": "code",
   "execution_count": 4,
   "id": "681d739e",
   "metadata": {},
   "outputs": [],
   "source": [
    "ridership = np.array([\n",
    "    [   0,    0,    2,    5,    0],\n",
    "    [1478, 3877, 3674, 2328, 2539],\n",
    "    [1613, 4088, 3991, 6461, 2691],\n",
    "    [1560, 3392, 3826, 4787, 2613],\n",
    "    [1608, 4802, 3932, 4477, 2705],\n",
    "    [1576, 3933, 3909, 4979, 2685],\n",
    "    [  95,  229,  255,  496,  201],\n",
    "    [   2,    0,    1,   27,    0],\n",
    "    [1438, 3785, 3589, 4174, 2215],\n",
    "    [1342, 4043, 4009, 4665, 3033]\n",
    "])"
   ]
  },
  {
   "cell_type": "code",
   "execution_count": 5,
   "id": "97b0f2ae",
   "metadata": {},
   "outputs": [
    {
     "data": {
      "text/plain": [
       "array([[   0,    0,    2,    5,    0],\n",
       "       [1478, 3877, 3674, 2328, 2539],\n",
       "       [1613, 4088, 3991, 6461, 2691],\n",
       "       [1560, 3392, 3826, 4787, 2613],\n",
       "       [1608, 4802, 3932, 4477, 2705],\n",
       "       [1576, 3933, 3909, 4979, 2685],\n",
       "       [  95,  229,  255,  496,  201],\n",
       "       [   2,    0,    1,   27,    0],\n",
       "       [1438, 3785, 3589, 4174, 2215],\n",
       "       [1342, 4043, 4009, 4665, 3033]])"
      ]
     },
     "execution_count": 5,
     "metadata": {},
     "output_type": "execute_result"
    }
   ],
   "source": [
    "ridership"
   ]
  },
  {
   "cell_type": "code",
   "execution_count": 28,
   "id": "4aaa7dc2",
   "metadata": {},
   "outputs": [
    {
     "data": {
      "text/plain": [
       "array([0, 0, 2, 5, 0])"
      ]
     },
     "execution_count": 28,
     "metadata": {},
     "output_type": "execute_result"
    }
   ],
   "source": [
    "ridership[0]"
   ]
  },
  {
   "cell_type": "code",
   "execution_count": 32,
   "id": "1c2680f0",
   "metadata": {},
   "outputs": [
    {
     "data": {
      "text/plain": [
       "5"
      ]
     },
     "execution_count": 32,
     "metadata": {},
     "output_type": "execute_result"
    }
   ],
   "source": [
    "ridership[0, 3]"
   ]
  },
  {
   "cell_type": "code",
   "execution_count": 40,
   "id": "616cd7c9",
   "metadata": {},
   "outputs": [
    {
     "data": {
      "text/plain": [
       "array([[1560, 3392, 3826],\n",
       "       [1608, 4802, 3932],\n",
       "       [1576, 3933, 3909]])"
      ]
     },
     "execution_count": 40,
     "metadata": {},
     "output_type": "execute_result"
    }
   ],
   "source": [
    "ridership[3:6, :3]"
   ]
  },
  {
   "cell_type": "code",
   "execution_count": 43,
   "id": "e2b1e77c",
   "metadata": {},
   "outputs": [
    {
     "data": {
      "text/plain": [
       "array([[   0,    0,    2,    5,    0],\n",
       "       [1478, 3877, 3674, 2328, 2539],\n",
       "       [1613, 4088, 3991, 6461, 2691]])"
      ]
     },
     "execution_count": 43,
     "metadata": {},
     "output_type": "execute_result"
    }
   ],
   "source": [
    "ridership[:3]"
   ]
  },
  {
   "cell_type": "code",
   "execution_count": 47,
   "id": "7d512941",
   "metadata": {},
   "outputs": [
    {
     "data": {
      "text/plain": [
       "array([1478, 3877, 3676, 2333, 2539])"
      ]
     },
     "execution_count": 47,
     "metadata": {},
     "output_type": "execute_result"
    }
   ],
   "source": [
    "ridership[0, :] + ridership[1,]"
   ]
  },
  {
   "cell_type": "code",
   "execution_count": 48,
   "id": "a51a76aa",
   "metadata": {},
   "outputs": [
    {
     "data": {
      "text/plain": [
       "array([[1478, 3877, 3676, 2333, 2539],\n",
       "       [1613, 4088, 3993, 6466, 2691],\n",
       "       [1560, 3392, 3828, 4792, 2613],\n",
       "       [1608, 4802, 3934, 4482, 2705],\n",
       "       [1576, 3933, 3911, 4984, 2685],\n",
       "       [  95,  229,  257,  501,  201],\n",
       "       [   2,    0,    3,   32,    0],\n",
       "       [1438, 3785, 3591, 4179, 2215],\n",
       "       [1342, 4043, 4011, 4670, 3033]])"
      ]
     },
     "execution_count": 48,
     "metadata": {},
     "output_type": "execute_result"
    }
   ],
   "source": [
    "ridership[0, :] + ridership[1:]"
   ]
  },
  {
   "cell_type": "code",
   "execution_count": 50,
   "id": "0d59196b",
   "metadata": {},
   "outputs": [],
   "source": [
    "a = np.array([[1, 2, 3], [4, 5, 6], [7, 8, 9]])\n",
    "b = np.array([[1, 1, 1], [2, 2, 2], [3, 3, 3]])"
   ]
  },
  {
   "cell_type": "code",
   "execution_count": 51,
   "id": "9437e0de",
   "metadata": {},
   "outputs": [
    {
     "data": {
      "text/plain": [
       "array([[ 2,  3,  4],\n",
       "       [ 6,  7,  8],\n",
       "       [10, 11, 12]])"
      ]
     },
     "execution_count": 51,
     "metadata": {},
     "output_type": "execute_result"
    }
   ],
   "source": [
    "a + b"
   ]
  },
  {
   "cell_type": "code",
   "execution_count": 61,
   "id": "8fe30955",
   "metadata": {},
   "outputs": [
    {
     "data": {
      "text/plain": [
       "3"
      ]
     },
     "execution_count": 61,
     "metadata": {},
     "output_type": "execute_result"
    }
   ],
   "source": [
    "'''\n",
    "    Find the station with the maximum riders on the\n",
    "    first day, then return the mean riders per day for that station. Also\n",
    "    return the mean ridership overall for comparsion.\n",
    "    \n",
    "    Hint: NumPy's argmax() function might be useful:\n",
    "    http://docs.scipy.org/doc/numpy/reference/generated/numpy.argmax.html\n",
    "'''\n",
    "\n",
    "np.argmax(ridership[0])"
   ]
  },
  {
   "cell_type": "code",
   "execution_count": 58,
   "id": "860a7edb",
   "metadata": {},
   "outputs": [
    {
     "data": {
      "text/plain": [
       "(3239.9, 2342.6)"
      ]
     },
     "execution_count": 58,
     "metadata": {},
     "output_type": "execute_result"
    }
   ],
   "source": [
    "ridership[:, 3].mean(), ridership.mean()"
   ]
  },
  {
   "cell_type": "code",
   "execution_count": 59,
   "id": "3847c124",
   "metadata": {},
   "outputs": [
    {
     "data": {
      "text/plain": [
       "(45, array([12, 15, 18]), array([ 6, 15, 24]))"
      ]
     },
     "execution_count": 59,
     "metadata": {},
     "output_type": "execute_result"
    }
   ],
   "source": [
    "a = np.array([\n",
    "        [1, 2, 3],\n",
    "        [4, 5, 6],\n",
    "        [7, 8, 9]\n",
    "    ])\n",
    "    \n",
    "a.sum(), a.sum(axis=0), a.sum(axis=1)"
   ]
  },
  {
   "cell_type": "code",
   "execution_count": 62,
   "id": "16007c9c",
   "metadata": {},
   "outputs": [
    {
     "data": {
      "text/plain": [
       "array([1071.2, 2814.9, 2718.8, 3239.9, 1868.2])"
      ]
     },
     "execution_count": 62,
     "metadata": {},
     "output_type": "execute_result"
    }
   ],
   "source": [
    "'''\n",
    "    Fill in this function. First, for each subway station, calculate the\n",
    "    mean ridership per day. Then, out of all the subway stations, return the\n",
    "    maximum and minimum of these values. That is, find the maximum\n",
    "    mean-ridership-per-day and the minimum mean-ridership-per-day for any\n",
    "    subway station.\n",
    "'''\n",
    "\n",
    "ridership.mean(axis=0)"
   ]
  },
  {
   "cell_type": "code",
   "execution_count": 63,
   "id": "6047c720",
   "metadata": {},
   "outputs": [
    {
     "data": {
      "text/plain": [
       "1071.2"
      ]
     },
     "execution_count": 63,
     "metadata": {},
     "output_type": "execute_result"
    }
   ],
   "source": [
    "ridership.mean(axis=0).min()"
   ]
  },
  {
   "cell_type": "code",
   "execution_count": 64,
   "id": "da5d3abc",
   "metadata": {},
   "outputs": [
    {
     "data": {
      "text/plain": [
       "3239.9"
      ]
     },
     "execution_count": 64,
     "metadata": {},
     "output_type": "execute_result"
    }
   ],
   "source": [
    "ridership.mean(axis=0).max()"
   ]
  },
  {
   "cell_type": "code",
   "execution_count": null,
   "id": "9a44c24d",
   "metadata": {},
   "outputs": [],
   "source": []
  }
 ],
 "metadata": {
  "kernelspec": {
   "display_name": "Python [conda env:io] *",
   "language": "python",
   "name": "conda-env-io-py"
  },
  "language_info": {
   "codemirror_mode": {
    "name": "ipython",
    "version": 3
   },
   "file_extension": ".py",
   "mimetype": "text/x-python",
   "name": "python",
   "nbconvert_exporter": "python",
   "pygments_lexer": "ipython3",
   "version": "3.9.15"
  }
 },
 "nbformat": 4,
 "nbformat_minor": 5
}
